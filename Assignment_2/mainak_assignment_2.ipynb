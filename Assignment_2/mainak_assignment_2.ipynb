{
 "cells": [
  {
   "cell_type": "code",
   "execution_count": null,
   "id": "cabdb741",
   "metadata": {},
   "outputs": [
    {
     "name": "stdout",
     "output_type": "stream",
     "text": [
      "\n",
      "\u001b[1m[\u001b[0m\u001b[34;49mnotice\u001b[0m\u001b[1;39;49m]\u001b[0m\u001b[39;49m A new release of pip is available: \u001b[0m\u001b[31;49m24.0\u001b[0m\u001b[39;49m -> \u001b[0m\u001b[32;49m25.2\u001b[0m\n",
      "\u001b[1m[\u001b[0m\u001b[34;49mnotice\u001b[0m\u001b[1;39;49m]\u001b[0m\u001b[39;49m To update, run: \u001b[0m\u001b[32;49mpip install --upgrade pip\u001b[0m\n"
     ]
    }
   ],
   "source": [
    "#!python -m pip install pypdf sentence-transformers faiss-cpu chromadb langchain_chroma --quiet\n"
   ]
  },
  {
   "cell_type": "code",
   "execution_count": 1,
   "id": "0ba5f70d",
   "metadata": {},
   "outputs": [
    {
     "name": "stderr",
     "output_type": "stream",
     "text": [
      "/home/zadmin/Desktop/test/GAAI-B5-GCP/genai/lib/python3.11/site-packages/tqdm/auto.py:21: TqdmWarning: IProgress not found. Please update jupyter and ipywidgets. See https://ipywidgets.readthedocs.io/en/stable/user_install.html\n",
      "  from .autonotebook import tqdm as notebook_tqdm\n"
     ]
    }
   ],
   "source": [
    "from sentence_transformers import SentenceTransformer\n",
    "import faiss\n",
    "import numpy as np\n",
    "import pandas as pd\n",
    "import os"
   ]
  },
  {
   "cell_type": "code",
   "execution_count": 2,
   "id": "edd3d08c",
   "metadata": {},
   "outputs": [],
   "source": [
    "#load embedding model\n",
    "embedding_model_name = \"models/gemini-embedding-001\"\n",
    "model_name = \"gemini-2.0-flash\""
   ]
  },
  {
   "cell_type": "code",
   "execution_count": 3,
   "id": "cb301173",
   "metadata": {},
   "outputs": [
    {
     "data": {
      "text/html": [
       "<div>\n",
       "<style scoped>\n",
       "    .dataframe tbody tr th:only-of-type {\n",
       "        vertical-align: middle;\n",
       "    }\n",
       "\n",
       "    .dataframe tbody tr th {\n",
       "        vertical-align: top;\n",
       "    }\n",
       "\n",
       "    .dataframe thead th {\n",
       "        text-align: right;\n",
       "    }\n",
       "</style>\n",
       "<table border=\"1\" class=\"dataframe\">\n",
       "  <thead>\n",
       "    <tr style=\"text-align: right;\">\n",
       "      <th></th>\n",
       "      <th>course_id</th>\n",
       "      <th>title</th>\n",
       "      <th>description</th>\n",
       "      <th>full_text</th>\n",
       "    </tr>\n",
       "  </thead>\n",
       "  <tbody>\n",
       "    <tr>\n",
       "      <th>0</th>\n",
       "      <td>C001</td>\n",
       "      <td>Foundations of Machine Learning</td>\n",
       "      <td>Understand foundational machine learning algor...</td>\n",
       "      <td>Foundations of Machine Learning++Understand fo...</td>\n",
       "    </tr>\n",
       "    <tr>\n",
       "      <th>1</th>\n",
       "      <td>C002</td>\n",
       "      <td>Deep Learning with TensorFlow and Keras</td>\n",
       "      <td>Explore neural network architectures using Ten...</td>\n",
       "      <td>Deep Learning with TensorFlow and Keras++Explo...</td>\n",
       "    </tr>\n",
       "  </tbody>\n",
       "</table>\n",
       "</div>"
      ],
      "text/plain": [
       "  course_id                                    title  \\\n",
       "0      C001          Foundations of Machine Learning   \n",
       "1      C002  Deep Learning with TensorFlow and Keras   \n",
       "\n",
       "                                         description  \\\n",
       "0  Understand foundational machine learning algor...   \n",
       "1  Explore neural network architectures using Ten...   \n",
       "\n",
       "                                           full_text  \n",
       "0  Foundations of Machine Learning++Understand fo...  \n",
       "1  Deep Learning with TensorFlow and Keras++Explo...  "
      ]
     },
     "execution_count": 3,
     "metadata": {},
     "output_type": "execute_result"
    }
   ],
   "source": [
    "#read data\n",
    "df=pd.read_csv(\"https://raw.githubusercontent.com/Bluedata-Consulting/GAAPB01-training-code-base/refs/heads/main/Assignments/assignment2dataset.csv\")\n",
    "\n",
    "#concat text\n",
    "df[\"full_text\"]=df[\"title\"]+\"++\"+df[\"description\"]\n",
    "\n",
    "df.head(2)\n"
   ]
  },
  {
   "cell_type": "code",
   "execution_count": 4,
   "id": "f7b4ea79",
   "metadata": {},
   "outputs": [],
   "source": [
    "#generate embeddings\n",
    "\n",
    "from langchain_google_genai import GoogleGenerativeAIEmbeddings\n",
    "embeddings = GoogleGenerativeAIEmbeddings(model=embedding_model_name)\n",
    "\n",
    "#db details\n",
    "\n",
    "vector_db_path = \"Mainak_Assignment_2\"\n",
    "os.makedirs(vector_db_path,exist_ok=True)"
   ]
  },
  {
   "cell_type": "code",
   "execution_count": 5,
   "id": "92f1928d",
   "metadata": {},
   "outputs": [],
   "source": [
    "from langchain_chroma import Chroma\n",
    "vectorstore = Chroma.from_texts(texts=df[\"full_text\"].to_list(),\n",
    "                                 embedding= embeddings, \n",
    "                                 persist_directory=vector_db_path,collection_name=\"course_catalog\",\n",
    "                                    collection_metadata={\"use_type\":\"TRAINING AND EXPERIMENTATION\"} ,\n",
    "                                    metadatas=[{\"course_id\": cid} for cid in df[\"course_id\"]]) \n"
   ]
  },
  {
   "cell_type": "code",
   "execution_count": 6,
   "id": "6a138a1b",
   "metadata": {},
   "outputs": [
    {
     "name": "stdout",
     "output_type": "stream",
     "text": [
      "docs in vector DB\n",
      "25\n"
     ]
    }
   ],
   "source": [
    "print(\"docs in vector DB\")\n",
    "print(len(vectorstore.get()['ids']))"
   ]
  },
  {
   "cell_type": "code",
   "execution_count": 8,
   "id": "a13123db",
   "metadata": {},
   "outputs": [
    {
     "data": {
      "text/plain": [
       "5"
      ]
     },
     "execution_count": 8,
     "metadata": {},
     "output_type": "execute_result"
    }
   ],
   "source": [
    "# using vector db object to initialize a retriever object - to perform vector search/retrieval\n",
    "retriever = vectorstore.as_retriever(search_type=\"similarity\", search_kwargs={\"k\": 5})\n",
    "retrieved_docs = retriever.invoke(\"Python Programming for data science\")\n",
    "len(retrieved_docs)"
   ]
  },
  {
   "cell_type": "code",
   "execution_count": 9,
   "id": "8f4ce319",
   "metadata": {},
   "outputs": [
    {
     "name": "stdout",
     "output_type": "stream",
     "text": [
      "(Document(id='34fb1d3e-c3e5-41b1-9086-d3a40c74a0f2', metadata={'course_id': 'C016'}, page_content='Python Programming for Data Science++Learn Python fundamentals for data science: variables, control flow, functions, and object-oriented programming. Advance to data handling with pandas, numerical computing with NumPy, and basic plotting with matplotlib. You’ll build reproducible data workflows, clean and transform datasets, and perform exploratory analysis, laying the groundwork for machine learning and statistical modeling projects.'), 0.15304824709892273)\n"
     ]
    }
   ],
   "source": [
    "#### testing\n",
    "ret_docs = vectorstore.similarity_search_with_score(\"Python programming for data science\",k=5)\n",
    "print(ret_docs[0])"
   ]
  },
  {
   "cell_type": "code",
   "execution_count": 10,
   "id": "31e63bfc",
   "metadata": {},
   "outputs": [
    {
     "data": {
      "text/plain": [
       "'Foundations of Machine Learning++Understand foundational machine learning algorithms including regression, classification, clustering, and dimensionality reduction. This course covers data pre-processing, feature engineering, model selection, hyperparameter tuning, and evaluation metrics. Hands-on labs use scikit-learn and Python to implement end-to-end workflows on real-world datasets, preparing learners for practical machine learning applications with interactive engaging exercises.'"
      ]
     },
     "execution_count": 10,
     "metadata": {},
     "output_type": "execute_result"
    }
   ],
   "source": [
    "retrieved_docs[1].page_content"
   ]
  },
  {
   "cell_type": "code",
   "execution_count": 11,
   "id": "3b862745",
   "metadata": {},
   "outputs": [
    {
     "name": "stdout",
     "output_type": "stream",
     "text": [
      "[(Document(id='34fb1d3e-c3e5-41b1-9086-d3a40c74a0f2', metadata={'course_id': 'C016'}, page_content='Python Programming for Data Science++Learn Python fundamentals for data science: variables, control flow, functions, and object-oriented programming. Advance to data handling with pandas, numerical computing with NumPy, and basic plotting with matplotlib. You’ll build reproducible data workflows, clean and transform datasets, and perform exploratory analysis, laying the groundwork for machine learning and statistical modeling projects.'), 0.2013748437166214), (Document(id='6a6bb430-efb0-4a99-b0cf-f3a674e4e662', metadata={'course_id': 'C001'}, page_content='Foundations of Machine Learning++Understand foundational machine learning algorithms including regression, classification, clustering, and dimensionality reduction. This course covers data pre-processing, feature engineering, model selection, hyperparameter tuning, and evaluation metrics. Hands-on labs use scikit-learn and Python to implement end-to-end workflows on real-world datasets, preparing learners for practical machine learning applications with interactive engaging exercises.'), 0.3806152939796448), (Document(id='cbfabce9-4148-4a8e-b47e-2eafbefc2d19', metadata={'course_id': 'C017'}, page_content='R Programming and Statistical Analysis++Get introduced to R for statistical computing and graphics. Topics include data structures, control flow, and functional programming. Use tidyverse libraries—dplyr, ggplot2, tidyr—for data manipulation and visualization. Explore hypothesis testing, regression analysis, and ANOVA. Through labs, apply statistical methods to real-world datasets and communicate results with reproducible R Markdown reports.'), 0.3873451054096222), (Document(id='88134bfd-b32b-4bc7-ac1a-3bfc65f83613', metadata={'course_id': 'C003'}, page_content='Natural Language Processing Fundamentals++Dive into NLP techniques for processing and understanding human language. You will learn tokenization, stemming, lemmatization, part-of-speech tagging, named entity recognition, and sentiment analysis. The course includes transformer architectures, attention mechanisms, and fine-tuning pre-trained language models. Hands-on Python labs use Hugging Face and spaCy for end-to-end natural language pipelines and projects.'), 0.40436050295829773), (Document(id='d3ae3aad-dc8f-470d-b456-d02a20891f51', metadata={'course_id': 'C011'}, page_content='Big Data Analytics with Spark++Process and analyze large datasets using Apache Spark and PySpark. The course covers RDDs, DataFrames, Spark SQL, and MLlib for machine learning at scale. You’ll learn cluster deployment on YARN or Kubernetes, performance tuning, and structured streaming for real-time analytics. Hands-on projects include building ETL pipelines and interactive dashboards, unlocking insights from big data.'), 0.4241919219493866)]\n"
     ]
    }
   ],
   "source": [
    "# Perform similarity search in Chroma vector store\n",
    "results = vectorstore.similarity_search_with_score(\"python programming for data science\", k=5)\n",
    "\n",
    "# Extract course IDs and similarity scores\n",
    "recommendations = [(doc.metadata[\"course_id\"], score) for doc, score in results]\n",
    "\n",
    "print(results)"
   ]
  },
  {
   "cell_type": "code",
   "execution_count": 12,
   "id": "d12dcbf8",
   "metadata": {},
   "outputs": [
    {
     "name": "stdout",
     "output_type": "stream",
     "text": [
      "[('C016', 0.2013748437166214), ('C001', 0.3806152939796448), ('C017', 0.3873451054096222), ('C003', 0.40436050295829773), ('C011', 0.4241919219493866)]\n"
     ]
    }
   ],
   "source": [
    "print(recommendations)"
   ]
  },
  {
   "cell_type": "code",
   "execution_count": 13,
   "id": "19a3fb2d",
   "metadata": {},
   "outputs": [
    {
     "data": {
      "text/plain": [
       "PromptTemplate(input_variables=['context', 'question'], input_types={}, partial_variables={}, template='\\nAnswer this question using the provided context only. list recommendations and comment on relevance. Give the course id as well. ensure to give top 5 recoomended courses\\n.Give the response in markdown format.\\n{question}\\n\\nContext:\\n{context}\\n')"
      ]
     },
     "execution_count": 13,
     "metadata": {},
     "output_type": "execute_result"
    }
   ],
   "source": [
    "from langchain_core.prompts import PromptTemplate\n",
    "from langchain_core.runnables import RunnablePassthrough\n",
    "\n",
    "message = \"\"\"\n",
    "Answer this question using the provided context only. list recommendations and comment on relevance. Give the course id as well. ensure to give top 5 recoomended courses\n",
    ".Give the response in markdown format.\n",
    "{question}\n",
    "\n",
    "Context:\n",
    "{context}\n",
    "\"\"\"\n",
    "\n",
    "prompt = PromptTemplate.from_template(message)\n",
    "prompt"
   ]
  },
  {
   "cell_type": "code",
   "execution_count": 14,
   "id": "fa532e01",
   "metadata": {},
   "outputs": [
    {
     "name": "stdout",
     "output_type": "stream",
     "text": [
      "Based on the context provided, here are the top 5 recommended courses related to \"Python Programming\":\n",
      "\n",
      "1.  **C016 - Python Programming for Data Science++**\n",
      "    *   **Relevance:** This course directly focuses on Python programming within the context of data science, covering fundamental Python concepts and libraries like pandas, NumPy, and matplotlib. It's highly relevant for anyone interested in using Python for data analysis and machine learning.\n",
      "\n",
      "2.  **C001 - Foundations of Machine Learning++**\n",
      "    *   **Relevance:** While not exclusively a Python programming course, it heavily utilizes Python and scikit-learn for implementing machine learning algorithms.  A solid understanding of Python is likely a prerequisite or co-requisite for this course.\n",
      "\n",
      "3.  **C003 - Natural Language Processing Fundamentals++**\n",
      "    *   **Relevance:** This course uses Python libraries like Hugging Face and spaCy.\n",
      "\n",
      "4.  **C004 - Computer Vision and Image Processing++**\n",
      "    *   **Relevance:** This course uses Python libraries like OpenCV, scikit-image, and TensorFlow.\n",
      "\n",
      "5.  **C017 - R Programming and Statistical Analysis++**\n",
      "    *   **Relevance:** This course is not relevant.\n"
     ]
    }
   ],
   "source": [
    "from langchain.chat_models import init_chat_model\n",
    "llm = init_chat_model(model_name, model_provider=\"google_genai\")\n",
    "\n",
    "rag_chain = {\"context\": retriever, \"question\": RunnablePassthrough()} | prompt | llm\n",
    "response = rag_chain.invoke(\"python programming\")\n",
    "\n",
    "print(response.content)"
   ]
  },
  {
   "cell_type": "code",
   "execution_count": 15,
   "id": "53e7e37d",
   "metadata": {},
   "outputs": [
    {
     "name": "stdout",
     "output_type": "stream",
     "text": [
      "Based on your interest in data visualization and having completed 'Python Programming for Data Science' (C016), here are my top 5 recommended courses:\n",
      "\n",
      "1.  **Data Visualization with Tableau (C014)**\n",
      "\n",
      "    *   **Relevance:** This course directly aligns with your interest in data visualization. It will expand your visualization skills beyond Python's `matplotlib` and introduce you to Tableau, a widely used data visualization tool.\n",
      "\n",
      "2.  **R Programming and Statistical Analysis (C017)**\n",
      "\n",
      "    *   **Relevance:** Since you enjoy data visualization, learning R and `ggplot2` will offer you another powerful tool for creating compelling visuals. Also, gaining statistical analysis skills will enable you to derive deeper insights from data.\n",
      "\n",
      "3.  **SQL for Data Analysis (C012)**\n",
      "\n",
      "    *   **Relevance:** To effectively visualize data, you often need to extract and prepare it first. SQL is essential for querying and manipulating data from databases. This course will enhance your data wrangling capabilities.\n",
      "\n",
      "4.  **Foundations of Machine Learning (C001)**\n",
      "\n",
      "    *   **Relevance:** Visualization is often used to understand machine learning results. Having a good understanding of machine learning algorithms will help you effectively communicate the insights through visualizations.\n",
      "\n",
      "5.  **Python Programming for Data Science (C016)**\n",
      "\n",
      "    *   **Relevance:** Although you have completed the course, it is important to revise the contents of the course and build on the knowledge you have gained. This course will help you to solidify your understanding of the foundations of data science.\n"
     ]
    }
   ],
   "source": [
    "#INPUT 1\n",
    "response_1 = rag_chain.invoke(\"\"\"I’ve completed the ‘Python Programming for Data Science’ course and enjoy data \n",
    "visualization. What should I take next?\"\"\")\n",
    "\n",
    "print(response_1.content)"
   ]
  },
  {
   "cell_type": "code",
   "execution_count": 16,
   "id": "8c3eeabf",
   "metadata": {},
   "outputs": [
    {
     "name": "stdout",
     "output_type": "stream",
     "text": [
      "Based on your knowledge of Azure basics and your interest in managing containers and building CI/CD pipelines, here are the top 3 recommended courses from the provided context:\n",
      "\n",
      "1.  **Containerization with Docker and Kubernetes (C009)**:\n",
      "    *   **Relevance:**  This course directly addresses your interest in container management. It covers Docker and Kubernetes, essential tools for containerizing applications.\n",
      "2.  **DevOps Practices and CI/CD (C008)**:\n",
      "    *   **Relevance:** This course is highly relevant as it focuses on building CI/CD pipelines using Git, Jenkins/GitHub Actions, and infrastructure-as-code with Terraform. It will help you automate your software delivery process.\n",
      "3.  **Cloud Computing with Azure (C007)**:\n",
      "    *   **Relevance:** Since you already know Azure basics, this course will help you deepen your knowledge of Azure services, including Azure Kubernetes Service (AKS), which is relevant for container management on Azure.\n"
     ]
    }
   ],
   "source": [
    "#INPUT 2\n",
    "response_2 = rag_chain.invoke(\"\"\"I know Azure basics and want to manage containers and build CI/CD pipelines. \n",
    "Recommend courses.\"\"\")\n",
    "\n",
    "print(response_2.content)"
   ]
  },
  {
   "cell_type": "code",
   "execution_count": 17,
   "id": "140dd046",
   "metadata": {},
   "outputs": [
    {
     "name": "stdout",
     "output_type": "stream",
     "text": [
      "Based on your background in ML fundamentals and your interest in specializing in neural networks and production workflows, here are the top 5 recommended courses:\n",
      "\n",
      "1.  **Course ID: C002** - Deep Learning with TensorFlow and Keras\n",
      "    *   **Relevance:** This course directly addresses your interest in neural networks, providing hands-on experience with TensorFlow and Keras to build, train, and optimize deep learning models. It covers various neural network architectures, which is essential for specialization.\n",
      "\n",
      "2.  **Course ID: C025** - MLOps: Productionizing Machine Learning\n",
      "    *   **Relevance:** This course is highly relevant to your interest in production workflows. It focuses on deploying and maintaining ML models at scale, covering essential MLOps practices such as model versioning, CI/CD, and monitoring.\n",
      "\n",
      "3.  **Course ID: C001** - Foundations of Machine Learning\n",
      "    *   **Relevance:** While you mentioned having a background in ML fundamentals, this course will help reinforce concepts.\n",
      "\n",
      "4.  **Course ID: C003** - Natural Language Processing Fundamentals\n",
      "    *   **Relevance:** This will help you understand transformer architectures, attention mechanisms, and fine-tuning pre-trained language models.\n",
      "\n",
      "5.  **Course ID: C005** - Reinforcement Learning Basics\n",
      "    *   **Relevance:** This course is relevant as it introduces reinforcement learning paradigms.\n"
     ]
    }
   ],
   "source": [
    "#INPUT 3\n",
    "response_3 = rag_chain.invoke(\"\"\"My background is in ML fundamentals; I’d like to specialize in neural networks and \n",
    "production workflows..\"\"\")\n",
    "\n",
    "print(response_3.content)"
   ]
  },
  {
   "cell_type": "code",
   "execution_count": 18,
   "id": "24c4a746",
   "metadata": {},
   "outputs": [
    {
     "name": "stdout",
     "output_type": "stream",
     "text": [
      "Here are the top 5 recommended courses for learning to build and deploy microservices with Kubernetes, based on the provided context:\n",
      "\n",
      "1.  **Course ID:** C009\n",
      "    **Course Title:** Containerization with Docker and Kubernetes\n",
      "    **Relevance:** Highly relevant. This course directly addresses the core technologies (Docker and Kubernetes) for containerizing and orchestrating microservices. It covers essential Kubernetes concepts like pods, deployments, services, and ingress, along with cluster provisioning, autoscaling, and Helm chart packaging, all crucial for microservices deployment.\n",
      "\n",
      "2.  **Course ID:** C010\n",
      "    **Course Title:** APIs and Microservices Architecture\n",
      "    **Relevance:** Highly relevant. This course focuses on designing and implementing APIs and microservices architectures. It covers microservices patterns, containerized deployment, versioning strategies, and security best practices, providing a comprehensive understanding of building interconnected services.\n",
      "\n",
      "3.  **Course ID:** C008\n",
      "    **Course Title:** DevOps Practices and CI/CD\n",
      "    **Relevance:** Very Relevant. While not directly focused on Kubernetes, this course is essential for deploying and managing microservices effectively. It covers CI/CD pipelines, container registry integration, and monitoring tools, all necessary for a robust microservices deployment strategy.\n",
      "\n",
      "4.  **Course ID:** C007\n",
      "    **Course Title:** Cloud Computing with Azure\n",
      "    **Relevance:** Relevant. This course provides a foundation in cloud computing with Azure, including Azure Kubernetes Service (AKS). It is beneficial for deploying microservices on the Azure cloud platform and understanding the associated cloud services.\n",
      "\n",
      "5.  **Course ID:** C025\n",
      "    **Course Title:** MLOps: Productionizing Machine Learning\n",
      "    **Relevance:** Less Relevant. While it touches on containerization and deployment, it's primarily focused on machine learning models. It might be useful if you plan to deploy ML-based microservices, but it's not a core course for general microservices development.\n"
     ]
    }
   ],
   "source": [
    "#INPUT 4\n",
    "response_4 = rag_chain.invoke(\"\"\"I want to learn to build and deploy microservices with Kubernetes—what courses fit \n",
    "best?\"\"\")\n",
    "\n",
    "print(response_4.content)"
   ]
  },
  {
   "cell_type": "code",
   "execution_count": 19,
   "id": "98af46da",
   "metadata": {},
   "outputs": [
    {
     "name": "stdout",
     "output_type": "stream",
     "text": [
      "Based on your interest in blockchain and smart contracts with no prior experience, here's a recommendation:\n",
      "\n",
      "**Top Recommended Courses:**\n",
      "\n",
      "1.  **Blockchain Technology and Smart Contracts (C023)**\n",
      "\n",
      "    *   **Relevance:** This course is highly relevant as it directly covers blockchain fundamentals, smart contract development using Solidity on Ethereum, token standards, decentralized application patterns, and security best practices. It's perfectly aligned with your stated interest.\n"
     ]
    }
   ],
   "source": [
    "#INPUT 5\n",
    "response_5 = rag_chain.invoke(\"\"\"I’m interested in blockchain and smart contracts but have no prior experience. Which \n",
    "courses do you suggest?\"\"\")\n",
    "\n",
    "print(response_5.content)"
   ]
  },
  {
   "cell_type": "code",
   "execution_count": null,
   "id": "d886c359",
   "metadata": {},
   "outputs": [],
   "source": []
  }
 ],
 "metadata": {
  "kernelspec": {
   "display_name": "genai",
   "language": "python",
   "name": "python3"
  },
  "language_info": {
   "codemirror_mode": {
    "name": "ipython",
    "version": 3
   },
   "file_extension": ".py",
   "mimetype": "text/x-python",
   "name": "python",
   "nbconvert_exporter": "python",
   "pygments_lexer": "ipython3",
   "version": "3.11.13"
  }
 },
 "nbformat": 4,
 "nbformat_minor": 5
}
