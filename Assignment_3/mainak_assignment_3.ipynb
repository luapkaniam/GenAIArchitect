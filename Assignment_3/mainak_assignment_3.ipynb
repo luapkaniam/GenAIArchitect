{
 "cells": [
  {
   "cell_type": "code",
   "execution_count": 1,
   "id": "cabdb741",
   "metadata": {},
   "outputs": [
    {
     "name": "stdout",
     "output_type": "stream",
     "text": [
      "\n",
      "\u001b[1m[\u001b[0m\u001b[34;49mnotice\u001b[0m\u001b[1;39;49m]\u001b[0m\u001b[39;49m A new release of pip is available: \u001b[0m\u001b[31;49m24.0\u001b[0m\u001b[39;49m -> \u001b[0m\u001b[32;49m25.2\u001b[0m\n",
      "\u001b[1m[\u001b[0m\u001b[34;49mnotice\u001b[0m\u001b[1;39;49m]\u001b[0m\u001b[39;49m To update, run: \u001b[0m\u001b[32;49mpip install --upgrade pip\u001b[0m\n",
      "Note: you may need to restart the kernel to use updated packages.\n",
      "\n",
      "\u001b[1m[\u001b[0m\u001b[34;49mnotice\u001b[0m\u001b[1;39;49m]\u001b[0m\u001b[39;49m A new release of pip is available: \u001b[0m\u001b[31;49m24.0\u001b[0m\u001b[39;49m -> \u001b[0m\u001b[32;49m25.2\u001b[0m\n",
      "\u001b[1m[\u001b[0m\u001b[34;49mnotice\u001b[0m\u001b[1;39;49m]\u001b[0m\u001b[39;49m To update, run: \u001b[0m\u001b[32;49mpip install --upgrade pip\u001b[0m\n",
      "\n",
      "\u001b[1m[\u001b[0m\u001b[34;49mnotice\u001b[0m\u001b[1;39;49m]\u001b[0m\u001b[39;49m A new release of pip is available: \u001b[0m\u001b[31;49m24.0\u001b[0m\u001b[39;49m -> \u001b[0m\u001b[32;49m25.2\u001b[0m\n",
      "\u001b[1m[\u001b[0m\u001b[34;49mnotice\u001b[0m\u001b[1;39;49m]\u001b[0m\u001b[39;49m To update, run: \u001b[0m\u001b[32;49mpip install --upgrade pip\u001b[0m\n"
     ]
    }
   ],
   "source": [
    "%pip install langgraph google-cloud-aiplatform pinecone pydantic --quiet\n",
    "!python -m pip install --upgrade google-genai --quiet\n",
    "!python -m pip install dotenv --quiet"
   ]
  },
  {
   "cell_type": "code",
   "execution_count": 1,
   "id": "68ff0c67",
   "metadata": {},
   "outputs": [
    {
     "data": {
      "text/plain": [
       "True"
      ]
     },
     "execution_count": 1,
     "metadata": {},
     "output_type": "execute_result"
    }
   ],
   "source": [
    "from dotenv import load_dotenv\n",
    "load_dotenv()"
   ]
  },
  {
   "cell_type": "code",
   "execution_count": 2,
   "id": "c6333f58",
   "metadata": {},
   "outputs": [],
   "source": [
    "from google import genai\n",
    "import os"
   ]
  },
  {
   "cell_type": "code",
   "execution_count": 3,
   "id": "010a3067",
   "metadata": {},
   "outputs": [],
   "source": [
    "PROJECT_ID = \"bdc-trainings\"  # @param {type: \"string\", placeholder: \"[your-project-id]\", isTemplate: true}\n",
    "if not PROJECT_ID or PROJECT_ID == \"[your-project-id]\":\n",
    "    PROJECT_ID = str(os.environ.get(\"GOOGLE_CLOUD_PROJECT\"))\n",
    "\n",
    "LOCATION = os.environ.get(\"GOOGLE_CLOUD_REGION\", \"global\")\n",
    "\n",
    "client = genai.Client(vertexai=True, project=PROJECT_ID, location=LOCATION)"
   ]
  },
  {
   "cell_type": "code",
   "execution_count": 4,
   "id": "0da273c2",
   "metadata": {},
   "outputs": [
    {
     "name": "stdout",
     "output_type": "stream",
     "text": [
      "Using Vertex AI with project: bdc-trainings in location: global\n"
     ]
    }
   ],
   "source": [
    "if not client.vertexai:\n",
    "    print(\"Using Gemini Developer API.\")\n",
    "elif client._api_client.project:\n",
    "    print(\n",
    "        f\"Using Vertex AI with project: {client._api_client.project} in location: {client._api_client.location}\"\n",
    "    )\n",
    "elif client._api_client.api_key:\n",
    "    print(\n",
    "        f\"Using Vertex AI in express mode with API key: {client._api_client.api_key[:5]}...{client._api_client.api_key[-5:]}\"\n",
    "    )"
   ]
  },
  {
   "cell_type": "code",
   "execution_count": 5,
   "id": "028b0794",
   "metadata": {},
   "outputs": [],
   "source": [
    "EMBEDDING_MODEL = \"models/gemini-embedding-001\"\n",
    "LLM_MODEL = \"gemini-2.5-flash\""
   ]
  },
  {
   "cell_type": "code",
   "execution_count": 6,
   "id": "32e0c821",
   "metadata": {},
   "outputs": [],
   "source": [
    "import time\n",
    "from dataclasses import dataclass\n",
    "from typing import List, Dict, Any\n",
    "\n",
    "# Pinecone (serverless)\n",
    "from pinecone import Pinecone, ServerlessSpec\n",
    "import logging\n"
   ]
  },
  {
   "cell_type": "code",
   "execution_count": 7,
   "id": "5cbbb3f6",
   "metadata": {},
   "outputs": [
    {
     "name": "stdout",
     "output_type": "stream",
     "text": [
      "PINECONE API KEY found\n"
     ]
    }
   ],
   "source": [
    "PINECONE_API_KEY = os.getenv(\"PINECONE_API_KEY\")\n",
    "if not PINECONE_API_KEY:\n",
    "    raise RuntimeError(\"PINECONE_API_KEY not found. Please set it in your environment.\")\n",
    "else:\n",
    "  print(\"PINECONE API KEY found\")\n",
    "\n",
    "pc = Pinecone(api_key=PINECONE_API_KEY)"
   ]
  },
  {
   "cell_type": "code",
   "execution_count": 8,
   "id": "50f3a0e6",
   "metadata": {},
   "outputs": [
    {
     "name": "stdout",
     "output_type": "stream",
     "text": [
      "pcsk_6do2xF_TffEFjWU979gXVgaTpEWEv8tMFSFV7QgaRGEmdYa2gumrfkaVmiVodVDtbk24vC\n"
     ]
    }
   ],
   "source": [
    "print(PINECONE_API_KEY)"
   ]
  },
  {
   "cell_type": "code",
   "execution_count": 9,
   "id": "9362fdd9",
   "metadata": {},
   "outputs": [],
   "source": [
    "# Configure logging\n",
    "logging.basicConfig(\n",
    "    level=logging.INFO,  # Change to DEBUG for more detailed logs\n",
    "    format=\"%(asctime)s - %(name)s - %(levelname)s - %(message)s\"\n",
    ")\n",
    "\n",
    "logger = logging.getLogger(__name__)"
   ]
  },
  {
   "cell_type": "code",
   "execution_count": 10,
   "id": "5b1d969d",
   "metadata": {},
   "outputs": [],
   "source": [
    "# Configure logging to both console and file\n",
    "logging.basicConfig(\n",
    "    level=logging.INFO,\n",
    "    format=\"%(asctime)s - %(levelname)s - %(message)s\",\n",
    "    handlers=[\n",
    "        logging.FileHandler(\"rag_workflow.log\"),  # Logs to file\n",
    "        logging.StreamHandler()                   # Logs to console\n",
    "    ]\n",
    ")\n",
    "\n",
    "logger = logging.getLogger(__name__)"
   ]
  },
  {
   "cell_type": "code",
   "execution_count": 11,
   "id": "7f2aa480",
   "metadata": {},
   "outputs": [
    {
     "name": "stderr",
     "output_type": "stream",
     "text": [
      "/home/zadmin/Desktop/test/GAAI-B5-GCP/genai/lib/python3.11/site-packages/tqdm/auto.py:21: TqdmWarning: IProgress not found. Please update jupyter and ipywidgets. See https://ipywidgets.readthedocs.io/en/stable/user_install.html\n",
      "  from .autonotebook import tqdm as notebook_tqdm\n"
     ]
    }
   ],
   "source": [
    "import json\n",
    "import pinecone\n",
    "\n",
    "from langchain_google_genai import GoogleGenerativeAIEmbeddings\n",
    "embeddings = GoogleGenerativeAIEmbeddings(model=EMBEDDING_MODEL)\n",
    "\n",
    "test_dim = len(embeddings.embed_query(\"dimension probe\"))"
   ]
  },
  {
   "cell_type": "code",
   "execution_count": 12,
   "id": "119e245e",
   "metadata": {},
   "outputs": [
    {
     "name": "stdout",
     "output_type": "stream",
     "text": [
      "3072\n"
     ]
    }
   ],
   "source": [
    "print(test_dim)"
   ]
  },
  {
   "cell_type": "code",
   "execution_count": 13,
   "id": "84d5ab98",
   "metadata": {},
   "outputs": [
    {
     "name": "stdout",
     "output_type": "stream",
     "text": [
      "Index 'makp' already exists, reusing it.\n",
      "{'dimension': 3072,\n",
      " 'index_fullness': 0.0,\n",
      " 'metric': 'cosine',\n",
      " 'namespaces': {'': {'vector_count': 30}},\n",
      " 'total_vector_count': 30,\n",
      " 'vector_type': 'dense'}\n"
     ]
    }
   ],
   "source": [
    "INDEX_NAME = \"makp\" \n",
    "METRIC = \"cosine\"\n",
    "\n",
    "# Create the index if it doesn't exist\n",
    "existing = [idx[\"name\"] for idx in pc.list_indexes()]\n",
    "if INDEX_NAME not in existing:\n",
    "    print(f\"Creating index '{INDEX_NAME}' ...\")\n",
    "    pc.create_index(\n",
    "        name=INDEX_NAME,\n",
    "        dimension=test_dim, #3072\n",
    "        metric=METRIC,\n",
    "        spec=ServerlessSpec(cloud=\"aws\", region=\"us-east-1\"),)\n",
    "    # optional: wait a moment for the index to be ready\n",
    "    time.sleep(5)\n",
    "else:\n",
    "    print(f\"Index '{INDEX_NAME}' already exists, reusing it.\")\n",
    "\n",
    "index = pc.Index(INDEX_NAME)\n",
    "print(index.describe_index_stats())"
   ]
  },
  {
   "cell_type": "code",
   "execution_count": 14,
   "id": "acae0bf4",
   "metadata": {},
   "outputs": [],
   "source": [
    "# Load your dataset\n",
    "with open(\"self_critique_loop_dataset.json\") as f:\n",
    "    kb_data = json.load(f)"
   ]
  },
  {
   "cell_type": "code",
   "execution_count": 15,
   "id": "9c50b7e9",
   "metadata": {},
   "outputs": [
    {
     "name": "stdout",
     "output_type": "stream",
     "text": [
      "[{'doc_id': 'KB001', 'question': 'What are best practices for debugging?', 'answer_snippet': \"When addressing debugging, it's important to follow well-defined patterns...\", 'source': 'debugging_guide.md', 'confidence_indicator': 'moderate', 'last_updated': '2024-01-10'}, {'doc_id': 'KB002', 'question': 'What are best practices for performance tuning?', 'answer_snippet': \"When addressing performance tuning, it's important to follow well-defined patterns...\", 'source': 'performance tuning_guide.md', 'confidence_indicator': 'moderate', 'last_updated': '2024-02-10'}, {'doc_id': 'KB003', 'question': 'What are best practices for caching?', 'answer_snippet': \"When addressing caching, it's important to follow well-defined patterns...\", 'source': 'caching_guide.md', 'confidence_indicator': 'moderate', 'last_updated': '2024-03-10'}, {'doc_id': 'KB004', 'question': 'What are best practices for asynchronous programming?', 'answer_snippet': \"When addressing asynchronous programming, it's important to follow well-defined patterns...\", 'source': 'asynchronous programming_guide.md', 'confidence_indicator': 'moderate', 'last_updated': '2024-04-10'}, {'doc_id': 'KB005', 'question': 'What are best practices for API versioning?', 'answer_snippet': \"When addressing API versioning, it's important to follow well-defined patterns...\", 'source': 'API versioning_guide.md', 'confidence_indicator': 'moderate', 'last_updated': '2024-05-10'}, {'doc_id': 'KB006', 'question': 'What are best practices for unit testing?', 'answer_snippet': \"When addressing unit testing, it's important to follow well-defined patterns...\", 'source': 'unit testing_guide.md', 'confidence_indicator': 'moderate', 'last_updated': '2024-06-10'}, {'doc_id': 'KB007', 'question': 'What are best practices for CI/CD?', 'answer_snippet': \"When addressing CI/CD, it's important to follow well-defined patterns...\", 'source': 'CI/CD_guide.md', 'confidence_indicator': 'moderate', 'last_updated': '2024-01-10'}, {'doc_id': 'KB008', 'question': 'What are best practices for logging?', 'answer_snippet': \"When addressing logging, it's important to follow well-defined patterns...\", 'source': 'logging_guide.md', 'confidence_indicator': 'moderate', 'last_updated': '2024-02-10'}, {'doc_id': 'KB009', 'question': 'What are best practices for error handling?', 'answer_snippet': \"When addressing error handling, it's important to follow well-defined patterns...\", 'source': 'error handling_guide.md', 'confidence_indicator': 'moderate', 'last_updated': '2024-03-10'}, {'doc_id': 'KB010', 'question': 'What are best practices for rate limiting?', 'answer_snippet': \"When addressing rate limiting, it's important to follow well-defined patterns...\", 'source': 'rate limiting_guide.md', 'confidence_indicator': 'moderate', 'last_updated': '2024-04-10'}, {'doc_id': 'KB011', 'question': 'What are best practices for debugging?', 'answer_snippet': \"When addressing debugging, it's important to follow well-defined patterns...\", 'source': 'debugging_guide.md', 'confidence_indicator': 'moderate', 'last_updated': '2024-05-10'}, {'doc_id': 'KB012', 'question': 'What are best practices for performance tuning?', 'answer_snippet': \"When addressing performance tuning, it's important to follow well-defined patterns...\", 'source': 'performance tuning_guide.md', 'confidence_indicator': 'moderate', 'last_updated': '2024-06-10'}, {'doc_id': 'KB013', 'question': 'What are best practices for caching?', 'answer_snippet': \"When addressing caching, it's important to follow well-defined patterns...\", 'source': 'caching_guide.md', 'confidence_indicator': 'moderate', 'last_updated': '2024-01-10'}, {'doc_id': 'KB014', 'question': 'What are best practices for asynchronous programming?', 'answer_snippet': \"When addressing asynchronous programming, it's important to follow well-defined patterns...\", 'source': 'asynchronous programming_guide.md', 'confidence_indicator': 'moderate', 'last_updated': '2024-02-10'}, {'doc_id': 'KB015', 'question': 'What are best practices for API versioning?', 'answer_snippet': \"When addressing API versioning, it's important to follow well-defined patterns...\", 'source': 'API versioning_guide.md', 'confidence_indicator': 'moderate', 'last_updated': '2024-03-10'}, {'doc_id': 'KB016', 'question': 'What are best practices for unit testing?', 'answer_snippet': \"When addressing unit testing, it's important to follow well-defined patterns...\", 'source': 'unit testing_guide.md', 'confidence_indicator': 'moderate', 'last_updated': '2024-04-10'}, {'doc_id': 'KB017', 'question': 'What are best practices for CI/CD?', 'answer_snippet': \"When addressing CI/CD, it's important to follow well-defined patterns...\", 'source': 'CI/CD_guide.md', 'confidence_indicator': 'moderate', 'last_updated': '2024-05-10'}, {'doc_id': 'KB018', 'question': 'What are best practices for logging?', 'answer_snippet': \"When addressing logging, it's important to follow well-defined patterns...\", 'source': 'logging_guide.md', 'confidence_indicator': 'moderate', 'last_updated': '2024-06-10'}, {'doc_id': 'KB019', 'question': 'What are best practices for error handling?', 'answer_snippet': \"When addressing error handling, it's important to follow well-defined patterns...\", 'source': 'error handling_guide.md', 'confidence_indicator': 'moderate', 'last_updated': '2024-01-10'}, {'doc_id': 'KB020', 'question': 'What are best practices for rate limiting?', 'answer_snippet': \"When addressing rate limiting, it's important to follow well-defined patterns...\", 'source': 'rate limiting_guide.md', 'confidence_indicator': 'moderate', 'last_updated': '2024-02-10'}, {'doc_id': 'KB021', 'question': 'What are best practices for debugging?', 'answer_snippet': \"When addressing debugging, it's important to follow well-defined patterns...\", 'source': 'debugging_guide.md', 'confidence_indicator': 'moderate', 'last_updated': '2024-03-10'}, {'doc_id': 'KB022', 'question': 'What are best practices for performance tuning?', 'answer_snippet': \"When addressing performance tuning, it's important to follow well-defined patterns...\", 'source': 'performance tuning_guide.md', 'confidence_indicator': 'moderate', 'last_updated': '2024-04-10'}, {'doc_id': 'KB023', 'question': 'What are best practices for caching?', 'answer_snippet': \"When addressing caching, it's important to follow well-defined patterns...\", 'source': 'caching_guide.md', 'confidence_indicator': 'moderate', 'last_updated': '2024-05-10'}, {'doc_id': 'KB024', 'question': 'What are best practices for asynchronous programming?', 'answer_snippet': \"When addressing asynchronous programming, it's important to follow well-defined patterns...\", 'source': 'asynchronous programming_guide.md', 'confidence_indicator': 'moderate', 'last_updated': '2024-06-10'}, {'doc_id': 'KB025', 'question': 'What are best practices for API versioning?', 'answer_snippet': \"When addressing API versioning, it's important to follow well-defined patterns...\", 'source': 'API versioning_guide.md', 'confidence_indicator': 'moderate', 'last_updated': '2024-01-10'}, {'doc_id': 'KB026', 'question': 'What are best practices for unit testing?', 'answer_snippet': \"When addressing unit testing, it's important to follow well-defined patterns...\", 'source': 'unit testing_guide.md', 'confidence_indicator': 'moderate', 'last_updated': '2024-02-10'}, {'doc_id': 'KB027', 'question': 'What are best practices for CI/CD?', 'answer_snippet': \"When addressing CI/CD, it's important to follow well-defined patterns...\", 'source': 'CI/CD_guide.md', 'confidence_indicator': 'moderate', 'last_updated': '2024-03-10'}, {'doc_id': 'KB028', 'question': 'What are best practices for logging?', 'answer_snippet': \"When addressing logging, it's important to follow well-defined patterns...\", 'source': 'logging_guide.md', 'confidence_indicator': 'moderate', 'last_updated': '2024-04-10'}, {'doc_id': 'KB029', 'question': 'What are best practices for error handling?', 'answer_snippet': \"When addressing error handling, it's important to follow well-defined patterns...\", 'source': 'error handling_guide.md', 'confidence_indicator': 'moderate', 'last_updated': '2024-05-10'}, {'doc_id': 'KB030', 'question': 'What are best practices for rate limiting?', 'answer_snippet': \"When addressing rate limiting, it's important to follow well-defined patterns...\", 'source': 'rate limiting_guide.md', 'confidence_indicator': 'moderate', 'last_updated': '2024-06-10'}]\n"
     ]
    }
   ],
   "source": [
    "print(kb_data)"
   ]
  },
  {
   "cell_type": "code",
   "execution_count": 16,
   "id": "6209f406",
   "metadata": {},
   "outputs": [],
   "source": [
    "# Extract texts\n",
    "texts = [entry[\"answer_snippet\"] for entry in kb_data]\n",
    "\n",
    "# Get embeddings\n",
    "embeddings_1 = embeddings.embed_documents(texts)"
   ]
  },
  {
   "cell_type": "code",
   "execution_count": 17,
   "id": "2aad8d01",
   "metadata": {},
   "outputs": [
    {
     "name": "stdout",
     "output_type": "stream",
     "text": [
      "KB Indexed into Pinecone\n"
     ]
    }
   ],
   "source": [
    "# Upsert\n",
    "vectors = [{\n",
    "    \"id\": item[\"doc_id\"],\n",
    "    \"values\": vector,\n",
    "    \"metadata\": {\n",
    "        \"question\": item[\"question\"],\n",
    "        \"snippet\": item[\"answer_snippet\"],\n",
    "        \"source\": item[\"source\"]\n",
    "    }\n",
    "} for item, vector in zip(kb_data, embeddings_1)]\n",
    "\n",
    "index.upsert(vectors)\n",
    "\n",
    "print(\"KB Indexed into Pinecone\")"
   ]
  },
  {
   "cell_type": "code",
   "execution_count": 18,
   "id": "3732eb65",
   "metadata": {},
   "outputs": [],
   "source": [
    "###testing\n",
    "query = \"What are best practices for performance tuning?\"\n",
    "k = 5\n",
    "\n",
    "# Get the embedding vector for the query\n",
    "query_vector = embeddings.embed_query(query)\n",
    "\n",
    "# Query Pinecone index using the vector\n",
    "results = index.query(\n",
    "    vector=query_vector,\n",
    "    top_k=k,\n",
    "    include_metadata=True\n",
    ")"
   ]
  },
  {
   "cell_type": "code",
   "execution_count": 19,
   "id": "0a033c96",
   "metadata": {},
   "outputs": [
    {
     "data": {
      "text/plain": [
       "{'matches': [{'id': 'KB002',\n",
       "              'metadata': {'question': 'What are best practices for '\n",
       "                                       'performance tuning?',\n",
       "                           'snippet': 'When addressing performance tuning, '\n",
       "                                      \"it's important to follow well-defined \"\n",
       "                                      'patterns...',\n",
       "                           'source': 'performance tuning_guide.md'},\n",
       "              'score': 0.918594599,\n",
       "              'values': []},\n",
       "             {'id': 'KB022',\n",
       "              'metadata': {'question': 'What are best practices for '\n",
       "                                       'performance tuning?',\n",
       "                           'snippet': 'When addressing performance tuning, '\n",
       "                                      \"it's important to follow well-defined \"\n",
       "                                      'patterns...',\n",
       "                           'source': 'performance tuning_guide.md'},\n",
       "              'score': 0.918594599,\n",
       "              'values': []},\n",
       "             {'id': 'KB012',\n",
       "              'metadata': {'question': 'What are best practices for '\n",
       "                                       'performance tuning?',\n",
       "                           'snippet': 'When addressing performance tuning, '\n",
       "                                      \"it's important to follow well-defined \"\n",
       "                                      'patterns...',\n",
       "                           'source': 'performance tuning_guide.md'},\n",
       "              'score': 0.918594599,\n",
       "              'values': []},\n",
       "             {'id': 'KB023',\n",
       "              'metadata': {'question': 'What are best practices for caching?',\n",
       "                           'snippet': \"When addressing caching, it's important \"\n",
       "                                      'to follow well-defined patterns...',\n",
       "                           'source': 'caching_guide.md'},\n",
       "              'score': 0.830352962,\n",
       "              'values': []},\n",
       "             {'id': 'KB013',\n",
       "              'metadata': {'question': 'What are best practices for caching?',\n",
       "                           'snippet': \"When addressing caching, it's important \"\n",
       "                                      'to follow well-defined patterns...',\n",
       "                           'source': 'caching_guide.md'},\n",
       "              'score': 0.830352962,\n",
       "              'values': []}],\n",
       " 'namespace': '',\n",
       " 'usage': {'read_units': 1}}"
      ]
     },
     "execution_count": 19,
     "metadata": {},
     "output_type": "execute_result"
    }
   ],
   "source": [
    "results"
   ]
  },
  {
   "cell_type": "code",
   "execution_count": 20,
   "id": "de8386c7",
   "metadata": {},
   "outputs": [],
   "source": [
    "# Retrieval Node\n",
    "def retrieve_kb(question, top_k=5):\n",
    "    query_vector = embeddings.embed_query(question)\n",
    "    results = index.query(\n",
    "    vector=query_vector,\n",
    "    top_k=5,\n",
    "    include_metadata=True\n",
    ")\n",
    "    return results[\"matches\"]"
   ]
  },
  {
   "cell_type": "code",
   "execution_count": 21,
   "id": "2196408b",
   "metadata": {},
   "outputs": [],
   "source": [
    "##testing the retrieval node\n",
    "query=\"What are best practices for asynchronous programming?\"\n",
    "retrieve_kb(query)\n",
    "snippets=retrieve_kb(query)"
   ]
  },
  {
   "cell_type": "code",
   "execution_count": 22,
   "id": "49ddc702",
   "metadata": {},
   "outputs": [
    {
     "data": {
      "text/plain": [
       "[{'id': 'KB004',\n",
       "  'metadata': {'question': 'What are best practices for asynchronous '\n",
       "                           'programming?',\n",
       "               'snippet': \"When addressing asynchronous programming, it's \"\n",
       "                          'important to follow well-defined patterns...',\n",
       "               'source': 'asynchronous programming_guide.md'},\n",
       "  'score': 0.94732666,\n",
       "  'values': []},\n",
       " {'id': 'KB014',\n",
       "  'metadata': {'question': 'What are best practices for asynchronous '\n",
       "                           'programming?',\n",
       "               'snippet': \"When addressing asynchronous programming, it's \"\n",
       "                          'important to follow well-defined patterns...',\n",
       "               'source': 'asynchronous programming_guide.md'},\n",
       "  'score': 0.94732666,\n",
       "  'values': []},\n",
       " {'id': 'KB024',\n",
       "  'metadata': {'question': 'What are best practices for asynchronous '\n",
       "                           'programming?',\n",
       "               'snippet': \"When addressing asynchronous programming, it's \"\n",
       "                          'important to follow well-defined patterns...',\n",
       "               'source': 'asynchronous programming_guide.md'},\n",
       "  'score': 0.94732666,\n",
       "  'values': []},\n",
       " {'id': 'KB019',\n",
       "  'metadata': {'question': 'What are best practices for error handling?',\n",
       "               'snippet': \"When addressing error handling, it's important to \"\n",
       "                          'follow well-defined patterns...',\n",
       "               'source': 'error handling_guide.md'},\n",
       "  'score': 0.854446411,\n",
       "  'values': []},\n",
       " {'id': 'KB009',\n",
       "  'metadata': {'question': 'What are best practices for error handling?',\n",
       "               'snippet': \"When addressing error handling, it's important to \"\n",
       "                          'follow well-defined patterns...',\n",
       "               'source': 'error handling_guide.md'},\n",
       "  'score': 0.854446411,\n",
       "  'values': []}]"
      ]
     },
     "execution_count": 22,
     "metadata": {},
     "output_type": "execute_result"
    }
   ],
   "source": [
    "snippets"
   ]
  },
  {
   "cell_type": "code",
   "execution_count": 23,
   "id": "5036240c",
   "metadata": {},
   "outputs": [],
   "source": [
    "# Generation Node\n",
    "def generate_answer(question, snippets):\n",
    "    context = \"\\n\".join([f\"[{s['id']}] {s['metadata']['snippet']}\" for s in snippets])\n",
    "    prompt = f\"\"\"Use the context below to answer the question:\n",
    "Context:\n",
    "{context}\n",
    "Question: {question}\n",
    "Answer with citations in the format [KBxxx].\"\"\"\n",
    "\n",
    "    return client.models.generate_content(contents=prompt, model=LLM_MODEL).text.strip()"
   ]
  },
  {
   "cell_type": "code",
   "execution_count": 24,
   "id": "73383eb1",
   "metadata": {},
   "outputs": [
    {
     "name": "stderr",
     "output_type": "stream",
     "text": [
      "2025-10-05 22:32:22,895 - google_genai.models - INFO - AFC is enabled with max remote calls: 10.\n",
      "2025-10-05 22:32:26,277 - httpx - INFO - HTTP Request: POST https://aiplatform.googleapis.com/v1beta1/projects/bdc-trainings/locations/global/publishers/google/models/gemini-2.5-flash:generateContent \"HTTP/1.1 200 OK\"\n"
     ]
    },
    {
     "data": {
      "text/plain": [
       "\"When addressing asynchronous programming, it's important to follow well-defined patterns [KB004], [KB014], [KB024].\""
      ]
     },
     "execution_count": 24,
     "metadata": {},
     "output_type": "execute_result"
    }
   ],
   "source": [
    "answer=generate_answer(query,snippets=snippets)\n",
    "answer"
   ]
  },
  {
   "cell_type": "code",
   "execution_count": 25,
   "id": "d5cf9f9a",
   "metadata": {},
   "outputs": [],
   "source": [
    "#!gcloud auth application-default login"
   ]
  },
  {
   "cell_type": "code",
   "execution_count": 26,
   "id": "f6e991e1",
   "metadata": {},
   "outputs": [],
   "source": [
    "# Critique Node\n",
    "def critique_answer(question, snippets, answer):\n",
    "    context = \"\\n\".join([f\"- {s['metadata']['snippet']}\" for s in snippets])\n",
    "    prompt = f\"\"\"Given the context and an answer, determine if the answer is COMPLETE or needs REFINEMENT.\n",
    "Context:\n",
    "{context}\n",
    "\n",
    "Question: {question}\n",
    "\n",
    "Answer:\n",
    "{answer}\n",
    "\n",
    "Respond in one of the following formats:\n",
    "- COMPLETE\n",
    "- REFINE: <list missing keywords or ideas>\n",
    "\"\"\"\n",
    "    return client.models.generate_content(contents=prompt, model=LLM_MODEL).text.strip()"
   ]
  },
  {
   "cell_type": "code",
   "execution_count": 27,
   "id": "5d04974f",
   "metadata": {},
   "outputs": [
    {
     "name": "stderr",
     "output_type": "stream",
     "text": [
      "2025-10-05 22:32:31,567 - google_genai.models - INFO - AFC is enabled with max remote calls: 10.\n",
      "2025-10-05 22:32:34,464 - httpx - INFO - HTTP Request: POST https://aiplatform.googleapis.com/v1beta1/projects/bdc-trainings/locations/global/publishers/google/models/gemini-2.5-flash:generateContent \"HTTP/1.1 200 OK\"\n"
     ]
    },
    {
     "data": {
      "text/plain": [
       "'COMPLETE'"
      ]
     },
     "execution_count": 27,
     "metadata": {},
     "output_type": "execute_result"
    }
   ],
   "source": [
    "critique_answer(query, snippets, answer)"
   ]
  },
  {
   "cell_type": "code",
   "execution_count": 28,
   "id": "2e781946",
   "metadata": {},
   "outputs": [],
   "source": [
    "# Refinement Node\n",
    "def refine_answer(question, prev_snippets, missing_keywords):\n",
    "    new_query = f\"{question} {missing_keywords}\"\n",
    "    extra_snippet = retrieve_kb(new_query, top_k=1)\n",
    "    combined = prev_snippets + extra_snippet\n",
    "    return generate_answer(question, combined)"
   ]
  },
  {
   "cell_type": "code",
   "execution_count": 29,
   "id": "47a32f45",
   "metadata": {},
   "outputs": [
    {
     "name": "stderr",
     "output_type": "stream",
     "text": [
      "2025-10-05 22:32:37,823 - google_genai.models - INFO - AFC is enabled with max remote calls: 10.\n",
      "2025-10-05 22:32:39,877 - httpx - INFO - HTTP Request: POST https://aiplatform.googleapis.com/v1beta1/projects/bdc-trainings/locations/global/publishers/google/models/gemini-2.5-flash:generateContent \"HTTP/1.1 200 OK\"\n"
     ]
    },
    {
     "data": {
      "text/plain": [
       "\"It's important to follow well-defined patterns [KB004, KB014, KB024].\""
      ]
     },
     "execution_count": 29,
     "metadata": {},
     "output_type": "execute_result"
    }
   ],
   "source": [
    "refine_answer(query, prev_snippets=snippets, missing_keywords='REFINE: performance tuning')"
   ]
  },
  {
   "cell_type": "code",
   "execution_count": 30,
   "id": "66b994c4",
   "metadata": {},
   "outputs": [],
   "source": [
    "# Build LangGraph Workflow \n",
    "\n",
    "\n",
    "from typing import TypedDict\n",
    "from langgraph.graph import StateGraph\n",
    "\n",
    "\n",
    "# Define the schema for the graph state\n",
    "class RAGState(TypedDict):\n",
    "    question: str\n",
    "    snippets: list\n",
    "    answer: str\n",
    "    critique: str\n",
    "    final_answer: str\n",
    "\n",
    "\n",
    "def build_rag_graph():\n",
    "    graph = StateGraph(RAGState)\n",
    "  \n",
    "    def retrieve(state):\n",
    "        question = state[\"question\"]\n",
    "        logger.info(f\"Retrieving snippets for question: {question}\")\n",
    "        snippets = retrieve_kb(question)\n",
    "        logger.info(f\"[Retriever] Retrieved {len(snippets)} snippets\")\n",
    "\n",
    "        return {\"question\": question, \"snippets\": snippets}\n",
    "    \n",
    "    def generate(state):\n",
    "        logger.info(f\"[GenerateAnswer] Generating answer for: {state['question']}\")\n",
    "        answer = generate_answer(state[\"question\"], state[\"snippets\"])\n",
    "        logger.info(f\"[GenerateAnswer] Generated answer: {answer[:100]}...\")\n",
    "        return {**state, \"answer\": answer}\n",
    "\n",
    "    def critique(state):\n",
    "        logger.info(f\"[Critique] Critiquing answer...\")\n",
    "        result = critique_answer(state[\"question\"], state[\"snippets\"], state[\"answer\"])\n",
    "        logger.info(f\"[Critique] Critique result: {result}\")\n",
    "        return {**state, \"critique\": result}    \n",
    "    \n",
    "    def needs_refine(state):\n",
    "        decision = \"REFINE\" in state[\"critique\"]\n",
    "        logger.info(f\"[CheckCritique] Needs refinement? {decision}\")\n",
    "        return decision\n",
    "\n",
    "    \n",
    "    def refine(state):\n",
    "        logger.info(f\"[Refine] Refining answer...\")\n",
    "        missing = state[\"critique\"].split(\"REFINE:\")[-1].strip()\n",
    "        final_answer = refine_answer(state[\"question\"], state[\"snippets\"], missing)\n",
    "        logger.info(f\"[Refine] Final refined answer: {final_answer[:100]}...\")\n",
    "        return {**state, \"final_answer\": final_answer}\n",
    "    \n",
    "    def end_node(state):\n",
    "        logger.info(f\"[END] Final state reached.\")\n",
    "        return state  # Just passes through\n",
    "\n",
    "    graph.add_node(\"Retriever\", retrieve)\n",
    "    graph.add_node(\"GenerateAnswer\", generate)\n",
    "    graph.add_node(\"Critique\", critique)\n",
    "    graph.add_node(\"Refine\", refine)\n",
    "    graph.add_node(\"END\", end_node)\n",
    "\n",
    "    # Add condition\n",
    "    graph.add_conditional_edges(\"Critique\", needs_refine, {\n",
    "        True: \"Refine\",\n",
    "        False: \"END\"\n",
    "    })\n",
    "\n",
    "   \n",
    "# Set entry and edges\n",
    "    graph.set_entry_point(\"Retriever\")\n",
    "    graph.add_edge(\"Retriever\", \"GenerateAnswer\")\n",
    "    graph.add_edge(\"GenerateAnswer\", \"Critique\")\n",
    "    graph.add_edge(\"Refine\", \"END\")\n",
    "\n",
    "    return graph.compile()    "
   ]
  },
  {
   "cell_type": "code",
   "execution_count": 31,
   "id": "d77d9964",
   "metadata": {},
   "outputs": [
    {
     "name": "stderr",
     "output_type": "stream",
     "text": [
      "2025-10-05 22:32:54,746 - __main__ - INFO - [Main] Starting RAG workflow for question: How do I version my APIs?\n",
      "2025-10-05 22:32:54,750 - __main__ - INFO - Retrieving snippets for question: How do I version my APIs?\n",
      "2025-10-05 22:32:55,743 - __main__ - INFO - [Retriever] Retrieved 5 snippets\n",
      "2025-10-05 22:32:55,746 - __main__ - INFO - [GenerateAnswer] Generating answer for: How do I version my APIs?\n",
      "2025-10-05 22:32:55,748 - google_genai.models - INFO - AFC is enabled with max remote calls: 10.\n",
      "2025-10-05 22:32:57,933 - httpx - INFO - HTTP Request: POST https://aiplatform.googleapis.com/v1beta1/projects/bdc-trainings/locations/global/publishers/google/models/gemini-2.5-flash:generateContent \"HTTP/1.1 200 OK\"\n",
      "2025-10-05 22:32:57,935 - __main__ - INFO - [GenerateAnswer] Generated answer: When addressing API versioning, it's important to follow well-defined patterns [KB005, KB015, KB025]...\n",
      "2025-10-05 22:32:57,936 - __main__ - INFO - [Critique] Critiquing answer...\n",
      "2025-10-05 22:32:57,937 - google_genai.models - INFO - AFC is enabled with max remote calls: 10.\n",
      "2025-10-05 22:33:05,813 - httpx - INFO - HTTP Request: POST https://aiplatform.googleapis.com/v1beta1/projects/bdc-trainings/locations/global/publishers/google/models/gemini-2.5-flash:generateContent \"HTTP/1.1 200 OK\"\n",
      "2025-10-05 22:33:05,815 - __main__ - INFO - [Critique] Critique result: REFINE: API versioning methods, specific versioning patterns, examples of versioning strategies\n",
      "2025-10-05 22:33:05,816 - __main__ - INFO - [CheckCritique] Needs refinement? True\n",
      "2025-10-05 22:33:05,817 - __main__ - INFO - [Refine] Refining answer...\n",
      "2025-10-05 22:33:06,790 - google_genai.models - INFO - AFC is enabled with max remote calls: 10.\n",
      "2025-10-05 22:33:09,407 - httpx - INFO - HTTP Request: POST https://aiplatform.googleapis.com/v1beta1/projects/bdc-trainings/locations/global/publishers/google/models/gemini-2.5-flash:generateContent \"HTTP/1.1 200 OK\"\n",
      "2025-10-05 22:33:09,409 - __main__ - INFO - [Refine] Final refined answer: When addressing API versioning, it's important to follow well-defined patterns [KB025, KB015, KB005]...\n",
      "2025-10-05 22:33:09,410 - __main__ - INFO - [END] Final state reached.\n",
      "2025-10-05 22:33:09,411 - __main__ - INFO - [Main] Workflow completed. Final result: When addressing API versioning, it's important to follow well-defined patterns [KB025, KB015, KB005].\n"
     ]
    },
    {
     "name": "stdout",
     "output_type": "stream",
     "text": [
      "When addressing API versioning, it's important to follow well-defined patterns [KB025, KB015, KB005].\n"
     ]
    }
   ],
   "source": [
    "graph= build_rag_graph()\n",
    "\n",
    "question = input(\"Enter your question: \")\n",
    "logger.info(f\"[Main] Starting RAG workflow for question: {question}\")\n",
    "\n",
    "result = graph.invoke({\"question\": question})\n",
    "\n",
    "logger.info(f\"[Main] Workflow completed. Final result: {result.get('final_answer', result.get('answer'))}\")\n",
    "print(result.get(\"final_answer\", result.get(\"answer\")))"
   ]
  },
  {
   "cell_type": "code",
   "execution_count": 32,
   "id": "90e963dc",
   "metadata": {},
   "outputs": [
    {
     "name": "stdout",
     "output_type": "stream",
     "text": [
      "When addressing API versioning, it's important to follow well-defined patterns [KB025, KB015, KB005].\n"
     ]
    }
   ],
   "source": [
    "print(result.get(\"final_answer\", result.get(\"answer\")))"
   ]
  },
  {
   "cell_type": "code",
   "execution_count": 33,
   "id": "1c9bb318",
   "metadata": {},
   "outputs": [
    {
     "name": "stderr",
     "output_type": "stream",
     "text": [
      "2025-10-05 22:33:39,357 - __main__ - INFO - Retrieving snippets for question: What are performance tuning tips?\n",
      "2025-10-05 22:33:40,337 - __main__ - INFO - [Retriever] Retrieved 5 snippets\n",
      "2025-10-05 22:33:40,340 - __main__ - INFO - [GenerateAnswer] Generating answer for: What are performance tuning tips?\n",
      "2025-10-05 22:33:40,340 - google_genai.models - INFO - AFC is enabled with max remote calls: 10.\n",
      "2025-10-05 22:33:43,263 - httpx - INFO - HTTP Request: POST https://aiplatform.googleapis.com/v1beta1/projects/bdc-trainings/locations/global/publishers/google/models/gemini-2.5-flash:generateContent \"HTTP/1.1 200 OK\"\n",
      "2025-10-05 22:33:43,265 - __main__ - INFO - [GenerateAnswer] Generated answer: It's important to follow well-defined patterns when addressing performance tuning [KB002, KB022, KB0...\n",
      "2025-10-05 22:33:43,267 - __main__ - INFO - [Critique] Critiquing answer...\n",
      "2025-10-05 22:33:43,267 - google_genai.models - INFO - AFC is enabled with max remote calls: 10.\n",
      "2025-10-05 22:33:45,320 - httpx - INFO - HTTP Request: POST https://aiplatform.googleapis.com/v1beta1/projects/bdc-trainings/locations/global/publishers/google/models/gemini-2.5-flash:generateContent \"HTTP/1.1 200 OK\"\n",
      "2025-10-05 22:33:45,322 - __main__ - INFO - [Critique] Critique result: COMPLETE\n",
      "2025-10-05 22:33:45,322 - __main__ - INFO - [CheckCritique] Needs refinement? False\n",
      "2025-10-05 22:33:45,323 - __main__ - INFO - [END] Final state reached.\n"
     ]
    },
    {
     "name": "stdout",
     "output_type": "stream",
     "text": [
      "It's important to follow well-defined patterns when addressing performance tuning [KB002, KB022, KB012].\n"
     ]
    }
   ],
   "source": [
    "graph= build_rag_graph()\n",
    "\n",
    "question=input(\"Enter your question: \")\n",
    "\n",
    "result= graph.invoke({\"question\": question})\n",
    "\n",
    "\n",
    "print(result.get(\"final_answer\", result[\"answer\"]))"
   ]
  },
  {
   "cell_type": "code",
   "execution_count": null,
   "id": "73a26e03",
   "metadata": {},
   "outputs": [],
   "source": []
  }
 ],
 "metadata": {
  "kernelspec": {
   "display_name": "genai",
   "language": "python",
   "name": "python3"
  },
  "language_info": {
   "codemirror_mode": {
    "name": "ipython",
    "version": 3
   },
   "file_extension": ".py",
   "mimetype": "text/x-python",
   "name": "python",
   "nbconvert_exporter": "python",
   "pygments_lexer": "ipython3",
   "version": "3.11.13"
  }
 },
 "nbformat": 4,
 "nbformat_minor": 5
}
