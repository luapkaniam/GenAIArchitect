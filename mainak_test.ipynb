{
 "cells": [
  {
   "cell_type": "code",
   "execution_count": 1,
   "id": "cabdb741",
   "metadata": {},
   "outputs": [
    {
     "name": "stdout",
     "output_type": "stream",
     "text": [
      "\n",
      "\u001b[1m[\u001b[0m\u001b[34;49mnotice\u001b[0m\u001b[1;39;49m]\u001b[0m\u001b[39;49m A new release of pip is available: \u001b[0m\u001b[31;49m24.0\u001b[0m\u001b[39;49m -> \u001b[0m\u001b[32;49m25.2\u001b[0m\n",
      "\u001b[1m[\u001b[0m\u001b[34;49mnotice\u001b[0m\u001b[1;39;49m]\u001b[0m\u001b[39;49m To update, run: \u001b[0m\u001b[32;49mpip install --upgrade pip\u001b[0m\n",
      "\n",
      "\u001b[1m[\u001b[0m\u001b[34;49mnotice\u001b[0m\u001b[1;39;49m]\u001b[0m\u001b[39;49m A new release of pip is available: \u001b[0m\u001b[31;49m24.0\u001b[0m\u001b[39;49m -> \u001b[0m\u001b[32;49m25.2\u001b[0m\n",
      "\u001b[1m[\u001b[0m\u001b[34;49mnotice\u001b[0m\u001b[1;39;49m]\u001b[0m\u001b[39;49m To update, run: \u001b[0m\u001b[32;49mpip install --upgrade pip\u001b[0m\n",
      "\n",
      "\u001b[1m[\u001b[0m\u001b[34;49mnotice\u001b[0m\u001b[1;39;49m]\u001b[0m\u001b[39;49m A new release of pip is available: \u001b[0m\u001b[31;49m24.0\u001b[0m\u001b[39;49m -> \u001b[0m\u001b[32;49m25.2\u001b[0m\n",
      "\u001b[1m[\u001b[0m\u001b[34;49mnotice\u001b[0m\u001b[1;39;49m]\u001b[0m\u001b[39;49m To update, run: \u001b[0m\u001b[32;49mpip install --upgrade pip\u001b[0m\n",
      "Note: you may need to restart the kernel to use updated packages.\n",
      "\n",
      "\u001b[1m[\u001b[0m\u001b[34;49mnotice\u001b[0m\u001b[1;39;49m]\u001b[0m\u001b[39;49m A new release of pip is available: \u001b[0m\u001b[31;49m24.0\u001b[0m\u001b[39;49m -> \u001b[0m\u001b[32;49m25.2\u001b[0m\n",
      "\u001b[1m[\u001b[0m\u001b[34;49mnotice\u001b[0m\u001b[1;39;49m]\u001b[0m\u001b[39;49m To update, run: \u001b[0m\u001b[32;49mpip install --upgrade pip\u001b[0m\n",
      "Note: you may need to restart the kernel to use updated packages.\n",
      "\n",
      "\u001b[1m[\u001b[0m\u001b[34;49mnotice\u001b[0m\u001b[1;39;49m]\u001b[0m\u001b[39;49m A new release of pip is available: \u001b[0m\u001b[31;49m24.0\u001b[0m\u001b[39;49m -> \u001b[0m\u001b[32;49m25.2\u001b[0m\n",
      "\u001b[1m[\u001b[0m\u001b[34;49mnotice\u001b[0m\u001b[1;39;49m]\u001b[0m\u001b[39;49m To update, run: \u001b[0m\u001b[32;49mpip install --upgrade pip\u001b[0m\n",
      "Note: you may need to restart the kernel to use updated packages.\n",
      "\n",
      "\u001b[1m[\u001b[0m\u001b[34;49mnotice\u001b[0m\u001b[1;39;49m]\u001b[0m\u001b[39;49m A new release of pip is available: \u001b[0m\u001b[31;49m24.0\u001b[0m\u001b[39;49m -> \u001b[0m\u001b[32;49m25.2\u001b[0m\n",
      "\u001b[1m[\u001b[0m\u001b[34;49mnotice\u001b[0m\u001b[1;39;49m]\u001b[0m\u001b[39;49m To update, run: \u001b[0m\u001b[32;49mpip install --upgrade pip\u001b[0m\n",
      "Note: you may need to restart the kernel to use updated packages.\n"
     ]
    }
   ],
   "source": [
    "!python -m pip install langchain langchain-core langchain-community langchain-experimental --quiet\n",
    "!python -m pip install -U langchain-google-genai --quiet\n",
    "%pip install --upgrade --quiet  yfinance\n",
    "%pip install langchain wikipedia-api --quiet\n",
    "%pip install wikipedia --quiet\n",
    "%pip install mlflow --quiet"
   ]
  },
  {
   "cell_type": "code",
   "execution_count": 2,
   "id": "fd5280ee",
   "metadata": {},
   "outputs": [
    {
     "name": "stderr",
     "output_type": "stream",
     "text": [
      "USER_AGENT environment variable not set, consider setting it to identify your requests.\n"
     ]
    }
   ],
   "source": [
    "from google import genai\n",
    "from google.genai.types import HttpOptions\n",
    "from langchain_community.tools.yahoo_finance_news import YahooFinanceNewsTool\n",
    "from langchain_core.prompts import ChatPromptTemplate\n",
    "from langchain.chat_models import init_chat_model\n",
    "from langchain.prompts import PromptTemplate\n",
    "from langchain.chains import LLMChain\n",
    "from langchain.prompts import PromptTemplate\n",
    "from langchain_community.tools import WikipediaQueryRun\n",
    "from langchain_community.utilities import WikipediaAPIWrapper\n",
    "from pydantic import BaseModel, Field\n",
    "from typing import Dict, Any\n",
    "\n",
    "from langchain_core.output_parsers import StrOutputParser,JsonOutputParser\n",
    "\n",
    "parser = StrOutputParser()\n",
    "parser_1=JsonOutputParser()\n",
    "\n",
    "###Intialising the client\n",
    "client = genai.Client(http_options=HttpOptions(api_version='v1'))\n",
    "from pydantic import BaseModel, Field\n",
    "import pprint"
   ]
  },
  {
   "cell_type": "code",
   "execution_count": 3,
   "id": "0081f9b5",
   "metadata": {},
   "outputs": [
    {
     "data": {
      "text/plain": [
       "True"
      ]
     },
     "execution_count": 3,
     "metadata": {},
     "output_type": "execute_result"
    }
   ],
   "source": [
    "model_name='gemini-2.0-flash'\n",
    "model = init_chat_model(model_name, model_provider=\"google_genai\")\n",
    "\n",
    "# Load API keys from .env file\n",
    "from dotenv import load_dotenv\n",
    "\n",
    "load_dotenv(override=True)"
   ]
  },
  {
   "cell_type": "code",
   "execution_count": 4,
   "id": "cc5ec86b",
   "metadata": {},
   "outputs": [
    {
     "name": "stdout",
     "output_type": "stream",
     "text": [
      "Tesla Inc\n"
     ]
    }
   ],
   "source": [
    "import mlflow\n",
    "mlflow.set_tracking_uri(\"http://20.75.92.162:5000\")\n",
    "\n",
    "mlflow.set_experiment(\"MP_Sentiment_Analysis\")\n",
    "\n",
    "company_name=input(\"Enter the company name:\")\n",
    "print(company_name)"
   ]
  },
  {
   "cell_type": "code",
   "execution_count": 5,
   "id": "9e0a11c6",
   "metadata": {},
   "outputs": [],
   "source": [
    "stock_tickers = {\n",
    "    \"Apple Inc\": \"AAPL\",\n",
    "    \"Microsoft Corporation\": \"MSFT\",\n",
    "    \"Amazon.com Inc\": \"AMZN\",\n",
    "    \"Alphabet Inc\": \"GOOGL\",\n",
    "    \"NVIDIA Corporation\": \"NVDA\",\n",
    "    \"Meta Platforms Inc\": \"META\",\n",
    "    \"Broadcom Inc\": \"AVGO\",\n",
    "    \"Tesla Inc\": \"TSLA\",\n",
    "    \"Taiwan Semiconductor\": \"TSM\",\n",
    "    \"Berkshire Hathaway Inc\": \"BRK.B\",\n",
    "    \"JPMorgan Chase & Co\": \"JPM\",\n",
    "    \"Walmart Inc\": \"WMT\",\n",
    "    \"Oracle Corporation\": \"ORCL\",\n",
    "    \"Eli Lilly and Company\": \"LLY\",\n",
    "    \"Visa Inc\": \"V\",\n",
    "    \"Mastercard Inc\": \"MA\",\n",
    "    \"Netflix Inc\": \"NFLX\",\n",
    "    \"Exxon Mobil Corporation\": \"XOM\",\n",
    "    \"Costco Wholesale Corporation\": \"COST\",\n",
    "    \"Johnson & Johnson\": \"JNJ\",\n",
    "    \"The Home Depot Inc\": \"HD\",\n",
    "    \"Palantir Technologies Inc\": \"PLTR\",\n",
    "    \"AbbVie Inc\": \"ABBV\",\n",
    "    \"Bank of America Corporation\": \"BAC\",\n",
    "    \"Procter & Gamble\": \"PG\",\n",
    "    \"UnitedHealth Group\": \"UNH\",\n",
    "    \"Chevron Corporation\": \"CVX\",\n",
    "    \"ASML Holding N.V.\": \"ASML\",\n",
    "    \"SAP SE\": \"SAP\",\n",
    "    \"General Electric Company\": \"GE\",\n",
    "    \"The Coca-Cola Company\": \"KO\",\n",
    "    \"T-Mobile US Inc\": \"TMUS\",\n",
    "    \"Cisco Systems Inc\": \"CSCO\",\n",
    "    \"Wells Fargo & Company\": \"WFC\",\n",
    "    \"Philip Morris International\": \"PM\",\n",
    "    \"Advanced Micro Devices Inc\": \"AMD\",\n",
    "    \"Toyota Motor Corporation\": \"TM\",\n",
    "    \"Morgan Stanley\": \"MS\",\n",
    "    \"AstraZeneca PLC\": \"AZN\",\n",
    "    \"The Goldman Sachs Group Inc\": \"GS\"\n",
    "}"
   ]
  },
  {
   "cell_type": "code",
   "execution_count": 7,
   "id": "5cca3ab7",
   "metadata": {},
   "outputs": [
    {
     "name": "stdout",
     "output_type": "stream",
     "text": [
      "TSLA\n"
     ]
    },
    {
     "data": {
      "text/html": [
       "\n",
       "<div>\n",
       "  <style scoped>\n",
       "  button {\n",
       "    border: none;\n",
       "    border-radius: 4px;\n",
       "    background-color: rgb(34, 114, 180);\n",
       "    font-family: -apple-system, \"system-ui\", \"Segoe UI\", Roboto, \"Helvetica Neue\", Arial;\n",
       "    font-size: 13px;\n",
       "    color: white;\n",
       "    margin-top: 8px;\n",
       "    margin-bottom: 8px;\n",
       "    padding: 8px 16px;\n",
       "    cursor: pointer;\n",
       "  }\n",
       "  button:hover {\n",
       "    background-color: rgb(66, 153, 224);\n",
       "  }\n",
       "  </style>\n",
       "  <button\n",
       "    onclick=\"\n",
       "        const display = this.nextElementSibling.style.display;\n",
       "        const isCollapsed = display === 'none';\n",
       "        this.nextElementSibling.style.display = isCollapsed ? null : 'none';\n",
       "\n",
       "        const verb = isCollapsed ? 'Collapse' : 'Expand';\n",
       "        this.innerText = `${verb} MLflow Trace`;\n",
       "    \"\n",
       "  >Collapse MLflow Trace</button>\n",
       "  <iframe\n",
       "    id=\"trace-renderer\"\n",
       "    style=\"width: 100%; height: 500px; border: none; resize: vertical;\"\n",
       "    src=\"http://20.75.92.162:5000/static-files/lib/notebook-trace-renderer/index.html?trace_id=tr-a232a818d4aaedd8e4c285e8ad7c6b78&amp;experiment_id=116567755970617679&amp;version=3.3.2\"\n",
       "  />\n",
       "</div>\n"
      ],
      "text/plain": [
       "Trace(trace_id=tr-a232a818d4aaedd8e4c285e8ad7c6b78)"
      ]
     },
     "metadata": {},
     "output_type": "display_data"
    }
   ],
   "source": [
    "### A function to extract the stock ticker or symbol\n",
    "@mlflow.trace\n",
    "def get_stock_ticker(company_name):\n",
    "    lookup = stock_tickers\n",
    "    return lookup.get(company_name, \"NOT AVAILABLE\")\n",
    "stock_code = get_stock_ticker(company_name)\n",
    "print(stock_code)"
   ]
  },
  {
   "cell_type": "code",
   "execution_count": 8,
   "id": "96ffd222",
   "metadata": {},
   "outputs": [
    {
     "name": "stdout",
     "output_type": "stream",
     "text": [
      "\u001b[32;1m\u001b[1;3m'I Don't Have Hundreds Of Thousands Of Dollars,' Says Elon Musk's 21-Year-Old Daughter Who Lives With Roommates To Save On Rent\n",
      "Vivian Wilson, daughter of Tesla Inc. (NASDAQ:TSLA) CEO Elon Musk, said she lives with three roommates in Los Angeles because it is \"cheaper\" and she often worries about money. \"People assume I have a lot of money. I don't have hundreds of thousands of dollars at my disposal,\" the 21-year-old told New York magazine recently. Despite being the oldest of Musk's 14 children, Wilson said she does not benefit financially from his fortune and is working to build her own path. Don't Miss: Kevin O'Leary\u001b[0m(\"'I Don't Have Hundreds Of Thousands Of Dollars,' Says Elon Musk's \"\n",
      " '21-Year-Old Daughter Who Lives With Roommates To Save On Rent\\n'\n",
      " 'Vivian Wilson, daughter of Tesla Inc. (NASDAQ:TSLA) CEO Elon Musk, said she '\n",
      " 'lives with three roommates in Los Angeles because it is \"cheaper\" and she '\n",
      " 'often worries about money. \"People assume I have a lot of money. I don\\'t '\n",
      " 'have hundreds of thousands of dollars at my disposal,\" the 21-year-old told '\n",
      " \"New York magazine recently. Despite being the oldest of Musk's 14 children, \"\n",
      " 'Wilson said she does not benefit financially from his fortune and is working '\n",
      " \"to build her own path. Don't Miss: Kevin O'Leary\")\n"
     ]
    },
    {
     "data": {
      "text/html": [
       "\n",
       "<div>\n",
       "  <style scoped>\n",
       "  button {\n",
       "    border: none;\n",
       "    border-radius: 4px;\n",
       "    background-color: rgb(34, 114, 180);\n",
       "    font-family: -apple-system, \"system-ui\", \"Segoe UI\", Roboto, \"Helvetica Neue\", Arial;\n",
       "    font-size: 13px;\n",
       "    color: white;\n",
       "    margin-top: 8px;\n",
       "    margin-bottom: 8px;\n",
       "    padding: 8px 16px;\n",
       "    cursor: pointer;\n",
       "  }\n",
       "  button:hover {\n",
       "    background-color: rgb(66, 153, 224);\n",
       "  }\n",
       "  </style>\n",
       "  <button\n",
       "    onclick=\"\n",
       "        const display = this.nextElementSibling.style.display;\n",
       "        const isCollapsed = display === 'none';\n",
       "        this.nextElementSibling.style.display = isCollapsed ? null : 'none';\n",
       "\n",
       "        const verb = isCollapsed ? 'Collapse' : 'Expand';\n",
       "        this.innerText = `${verb} MLflow Trace`;\n",
       "    \"\n",
       "  >Collapse MLflow Trace</button>\n",
       "  <iframe\n",
       "    id=\"trace-renderer\"\n",
       "    style=\"width: 100%; height: 500px; border: none; resize: vertical;\"\n",
       "    src=\"http://20.75.92.162:5000/static-files/lib/notebook-trace-renderer/index.html?trace_id=tr-a30281261b27b2eec023172cf8d00e00&amp;experiment_id=116567755970617679&amp;version=3.3.2\"\n",
       "  />\n",
       "</div>\n"
      ],
      "text/plain": [
       "Trace(trace_id=tr-a30281261b27b2eec023172cf8d00e00)"
      ]
     },
     "metadata": {},
     "output_type": "display_data"
    }
   ],
   "source": [
    "class StockNewsTool(BaseModel):\n",
    "    \"\"\"Input to the Stock News tool.\"\"\"\n",
    "\n",
    "    query: str = Field(\n",
    "        description=\"Query to look up in Yahoo Finance News, should be stock market listed tickers\"\n",
    "    )\n",
    "@mlflow.trace\n",
    "def company_news_func(stock_code_1:str):\n",
    "    Company_news_tool = YahooFinanceNewsTool(\n",
    "\n",
    "    name=\"Stock Sentiment Analyzer\",\n",
    "    description=\"Look up the latest stock news of a company in Yahoo finance news using the extracted stock symbol. Extract a concise list of recent headlines, article summaries as well as historical stock data if available.\",\n",
    "    args_schema=StockNewsTool,\n",
    "    metadata={\"use_case\": \"financial_analysis\", \"source\": \"YahooFinance\"},\n",
    "   \n",
    "    return_direct=True,\n",
    "    \n",
    "    top_k= 5,\n",
    "    verbose=True\n",
    "\n",
    ")\n",
    "    return Company_news_tool.run(stock_code_1)\n",
    "\n",
    "# print(tool.run(\"AAPL\"))\n",
    "response=company_news_func(stock_code)\n",
    "\n",
    "pprint.pprint(response)"
   ]
  },
  {
   "cell_type": "code",
   "execution_count": 9,
   "id": "b739fe3d",
   "metadata": {},
   "outputs": [],
   "source": [
    "from langchain.chains import LLMChain\n",
    "mlflow.gemini.autolog()"
   ]
  },
  {
   "cell_type": "code",
   "execution_count": 10,
   "id": "76d33823",
   "metadata": {},
   "outputs": [
    {
     "name": "stderr",
     "output_type": "stream",
     "text": [
      "2025/09/25 15:56:57 INFO mlflow.store.model_registry.abstract_store: Waiting up to 300 seconds for prompt version to finish creation. Prompt name: MP-SentimentAnalysis-prompt, version 1\n"
     ]
    },
    {
     "name": "stdout",
     "output_type": "stream",
     "text": [
      "Created prompt 'MP-SentimentAnalysis-prompt' (version 1)\n"
     ]
    }
   ],
   "source": [
    "import mlflow\n",
    "\n",
    "# Use double curly braces for variables in the template\n",
    "initial_template = \"\"\"\n",
    "You are a financial analyst. Given the following news about {company} {ticker}, analyze the sentiment and extract structured insights.\n",
    "\n",
    "News:\n",
    "{news}\n",
    "\n",
    "Return a dictionary with the following fields:\n",
    "{{\n",
    " \"company_name\": \"{company}\",\n",
    " \"stock_code\": \"{ticker}\",\n",
    " \"newsdesc\": \"...\",\n",
    " \"sentiment\": \"Positive/Negative/Neutral\",\n",
    " \"people_names\": [],\n",
    " \"places_names\": [],\n",
    " \"other_companies_referred\": [],\n",
    " \"related_industries\": [],\n",
    " \"market_implications\": \"\",\n",
    " \"confidence_score\": 0.0\n",
    "}}\n",
    "\"\"\"\n",
    "\n",
    "\n",
    "# Register a new prompt\n",
    "prompt = mlflow.genai.register_prompt(\n",
    "    name=\"MP-SentimentAnalysis-prompt\",\n",
    "    template=initial_template,\n",
    "    # Optional: Provide a commit message to describe the changes\n",
    "    commit_message=\"Initial commit\",\n",
    "    # Optional: Set tags applies to the prompt (across versions)\n",
    "    tags={\n",
    "        \"author\": \"Mainak Paul\",\n",
    "        \"task\": \"Sentiment analysis\",\n",
    "        \"language\": \"en\",\n",
    "        'llm': 'gemini-2.0-flash'\n",
    "    },\n",
    ")\n",
    "\n",
    "# The prompt object contains information about the registered prompt\n",
    "print(f\"Created prompt '{prompt.name}' (version {prompt.version})\")"
   ]
  },
  {
   "cell_type": "code",
   "execution_count": 12,
   "id": "b5d12b8d",
   "metadata": {},
   "outputs": [
    {
     "name": "stdout",
     "output_type": "stream",
     "text": [
      "\n",
      "You are a financial analyst. Given the following news about {company} {ticker}, analyze the sentiment and extract structured insights.\n",
      "\n",
      "News:\n",
      "{news}\n",
      "\n",
      "Return a dictionary with the following fields:\n",
      "{{\n",
      " \"company_name\": \"{company}\",\n",
      " \"stock_code\": \"{ticker}\",\n",
      " \"newsdesc\": \"...\",\n",
      " \"sentiment\": \"Positive/Negative/Neutral\",\n",
      " \"people_names\": [],\n",
      " \"places_names\": [],\n",
      " \"other_companies_referred\": [],\n",
      " \"related_industries\": [],\n",
      " \"market_implications\": \"\",\n",
      " \"confidence_score\": 0.0\n",
      "}}\n",
      "\n"
     ]
    }
   ],
   "source": [
    "sentiment_prompt = mlflow.genai.load_prompt(\"prompts:/MP-SentimentAnalysis-prompt/1\")\n",
    "print(sentiment_prompt.template)"
   ]
  },
  {
   "cell_type": "code",
   "execution_count": 13,
   "id": "398c2ce3",
   "metadata": {},
   "outputs": [],
   "source": [
    "@mlflow.trace\n",
    "def run_sentiment_analysis(model, sentiment_prompt, company_name, stock_code, news_text):\n",
    "    \"\"\"\n",
    "    Run sentiment analysis on news related to a company using an LLM chain.\n",
    "\n",
    "    Args:\n",
    "        model: The language model instance (e.g., from OpenAI, HuggingFace, etc.).\n",
    "        sentiment_prompt: A PromptTemplate object or template string for sentiment analysis.\n",
    "        company_name (str): The name of the company.\n",
    "        stock_code (str): The ticker symbol of the company.\n",
    "        news_text (str): The news article or snippet for analysis.\n",
    "\n",
    "    Returns:\n",
    "        str: The model's response (e.g., sentiment analysis result).\n",
    "    \"\"\"\n",
    "    \n",
    "    # Create the PromptTemplate object if it's not already\n",
    "    if isinstance(sentiment_prompt, str):\n",
    "        prompt_1 = PromptTemplate(\n",
    "            input_variables=[\"company\", \"ticker\", \"news\"],\n",
    "            template=sentiment_prompt\n",
    "        )\n",
    "    else:\n",
    "        prompt_1 = sentiment_prompt\n",
    "\n",
    "    # Create the LLM chain and run it\n",
    "    chain = LLMChain(llm=model, prompt=prompt_1)\n",
    "    response_final = chain.run(company=company_name, ticker=stock_code, news=news_text)\n",
    "    response_final=parser_1.invoke(response_final)\n",
    "    \n",
    "    return response_final"
   ]
  },
  {
   "cell_type": "code",
   "execution_count": 14,
   "id": "6125c47f",
   "metadata": {},
   "outputs": [
    {
     "name": "stderr",
     "output_type": "stream",
     "text": [
      "/tmp/ipykernel_3005/2600143604.py:27: LangChainDeprecationWarning: The class `LLMChain` was deprecated in LangChain 0.1.17 and will be removed in 1.0. Use :meth:`~RunnableSequence, e.g., `prompt | llm`` instead.\n",
      "  chain = LLMChain(llm=model, prompt=prompt_1)\n",
      "/tmp/ipykernel_3005/2600143604.py:28: LangChainDeprecationWarning: The method `Chain.run` was deprecated in langchain 0.1.0 and will be removed in 1.0. Use :meth:`~invoke` instead.\n",
      "  response_final = chain.run(company=company_name, ticker=stock_code, news=news_text)\n"
     ]
    },
    {
     "data": {
      "text/plain": [
       "{'company_name': 'Tesla Inc',\n",
       " 'stock_code': 'TSLA',\n",
       " 'newsdesc': \"Elon Musk's daughter, Vivian Wilson, states she lives with roommates to save on rent and doesn't have access to her father's wealth, despite being his daughter. She is working to build her own path.\",\n",
       " 'sentiment': 'Neutral',\n",
       " 'people_names': ['Elon Musk', 'Vivian Wilson', \"Kevin O'Leary\"],\n",
       " 'places_names': ['Los Angeles', 'New York'],\n",
       " 'other_companies_referred': [],\n",
       " 'related_industries': ['Automotive'],\n",
       " 'market_implications': \"This news is unlikely to have a significant direct impact on Tesla's stock price. While it involves Elon Musk, it's a personal story about his daughter's financial independence and doesn't directly affect Tesla's operations, financials, or competitive position.\",\n",
       " 'confidence_score': 0.8}"
      ]
     },
     "execution_count": 14,
     "metadata": {},
     "output_type": "execute_result"
    },
    {
     "data": {
      "text/html": [
       "\n",
       "<div>\n",
       "  <style scoped>\n",
       "  button {\n",
       "    border: none;\n",
       "    border-radius: 4px;\n",
       "    background-color: rgb(34, 114, 180);\n",
       "    font-family: -apple-system, \"system-ui\", \"Segoe UI\", Roboto, \"Helvetica Neue\", Arial;\n",
       "    font-size: 13px;\n",
       "    color: white;\n",
       "    margin-top: 8px;\n",
       "    margin-bottom: 8px;\n",
       "    padding: 8px 16px;\n",
       "    cursor: pointer;\n",
       "  }\n",
       "  button:hover {\n",
       "    background-color: rgb(66, 153, 224);\n",
       "  }\n",
       "  </style>\n",
       "  <button\n",
       "    onclick=\"\n",
       "        const display = this.nextElementSibling.style.display;\n",
       "        const isCollapsed = display === 'none';\n",
       "        this.nextElementSibling.style.display = isCollapsed ? null : 'none';\n",
       "\n",
       "        const verb = isCollapsed ? 'Collapse' : 'Expand';\n",
       "        this.innerText = `${verb} MLflow Trace`;\n",
       "    \"\n",
       "  >Collapse MLflow Trace</button>\n",
       "  <iframe\n",
       "    id=\"trace-renderer\"\n",
       "    style=\"width: 100%; height: 500px; border: none; resize: vertical;\"\n",
       "    src=\"http://20.75.92.162:5000/static-files/lib/notebook-trace-renderer/index.html?trace_id=tr-1aeebee0929ec6eeb663baaacc71449a&amp;experiment_id=116567755970617679&amp;version=3.3.2\"\n",
       "  />\n",
       "</div>\n"
      ],
      "text/plain": [
       "Trace(trace_id=tr-1aeebee0929ec6eeb663baaacc71449a)"
      ]
     },
     "metadata": {},
     "output_type": "display_data"
    }
   ],
   "source": [
    "final_response = run_sentiment_analysis(\n",
    "    model=model,\n",
    "    sentiment_prompt=sentiment_prompt.template,\n",
    "    company_name=company_name,\n",
    "    stock_code=stock_code,\n",
    "    news_text=response\n",
    ")\n",
    "\n",
    "final_response"
   ]
  },
  {
   "cell_type": "code",
   "execution_count": null,
   "id": "0ba5f70d",
   "metadata": {},
   "outputs": [],
   "source": []
  }
 ],
 "metadata": {
  "kernelspec": {
   "display_name": "genai",
   "language": "python",
   "name": "python3"
  },
  "language_info": {
   "codemirror_mode": {
    "name": "ipython",
    "version": 3
   },
   "file_extension": ".py",
   "mimetype": "text/x-python",
   "name": "python",
   "nbconvert_exporter": "python",
   "pygments_lexer": "ipython3",
   "version": "3.11.13"
  }
 },
 "nbformat": 4,
 "nbformat_minor": 5
}
